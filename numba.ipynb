{
 "cells": [
  {
   "cell_type": "markdown",
   "metadata": {},
   "source": [
    "## traditional"
   ]
  },
  {
   "cell_type": "code",
   "execution_count": 1,
   "metadata": {},
   "outputs": [],
   "source": [
    "import numpy as np\n",
    "\n",
    "def make_cluster(natoms, radius=20, seed=1981):\n",
    "    np.random.seed(seed)\n",
    "    arr = np.random.normal(0, radius, size=(natoms,3))-0.5\n",
    "    return arr"
   ]
  },
  {
   "cell_type": "code",
   "execution_count": 2,
   "metadata": {},
   "outputs": [],
   "source": [
    "class lj_pure(object):\n",
    "    \n",
    "    @classmethod\n",
    "    def lj(cls, r):\n",
    "        sr6 = (1./r)**6\n",
    "        pot = 4.*(sr6*sr6 - sr6)\n",
    "        return pot\n",
    "\n",
    "\n",
    "    @classmethod\n",
    "    def distance(cls, atom1, atom2):\n",
    "        dx = atom2[0] - atom1[0]\n",
    "        dy = atom2[1] - atom1[1]\n",
    "        dz = atom2[2] - atom1[2]\n",
    "\n",
    "        r = (dx*dx + dy*dy + dz*dz)**0.5\n",
    "        return r\n",
    "\n",
    "\n",
    "    @classmethod\n",
    "    def potential(cls, cluster):\n",
    "        energy = 0.0\n",
    "        for i in range(len(cluster)-1):\n",
    "            for j in range(i+1,len(cluster)):\n",
    "                r = cls.distance(cluster[i],cluster[j])\n",
    "                e = cls.lj(r)\n",
    "                energy += e\n",
    "        return energy"
   ]
  },
  {
   "cell_type": "code",
   "execution_count": 3,
   "metadata": {},
   "outputs": [],
   "source": [
    "import numpy as np\n",
    "class lj_numpy(object):\n",
    "    \n",
    "    @classmethod\n",
    "    def lj(cls, r):\n",
    "        sr6 = (1./r)**6\n",
    "        pot = 4.*(sr6*sr6 - sr6)\n",
    "        return pot\n",
    "    \n",
    "    \n",
    "    @classmethod\n",
    "    def distances(cls, cluster):\n",
    "        diff = cluster[:, np.newaxis, :] - cluster[np.newaxis, :, :]\n",
    "        mat = np.sqrt((diff*diff).sum(-1))\n",
    "        return mat\n",
    "\n",
    "    \n",
    "    @classmethod\n",
    "    def potential(cls, cluster):\n",
    "        d = cls.distances(cluster)\n",
    "        pot = cls.lj(d)\n",
    "        energy = np.nansum(pot) / 2\n",
    "        return energy"
   ]
  },
  {
   "cell_type": "code",
   "execution_count": 4,
   "metadata": {},
   "outputs": [],
   "source": [
    "cluster = make_cluster(int(2e3), radius=100)"
   ]
  },
  {
   "cell_type": "code",
   "execution_count": 5,
   "metadata": {},
   "outputs": [
    {
     "name": "stdout",
     "output_type": "stream",
     "text": [
      "4 s ± 20.9 ms per loop (mean ± std. dev. of 7 runs, 1 loop each)\n"
     ]
    }
   ],
   "source": [
    "%timeit lj_pure.potential(cluster)"
   ]
  },
  {
   "cell_type": "code",
   "execution_count": 6,
   "metadata": {},
   "outputs": [
    {
     "name": "stderr",
     "output_type": "stream",
     "text": [
      "/Users/adefusco/Applications/miniconda3/envs/intel/lib/python3.6/site-packages/ipykernel/__main__.py:6: RuntimeWarning: divide by zero encountered in true_divide\n",
      "/Users/adefusco/Applications/miniconda3/envs/intel/lib/python3.6/site-packages/ipykernel/__main__.py:7: RuntimeWarning: invalid value encountered in subtract\n"
     ]
    },
    {
     "name": "stdout",
     "output_type": "stream",
     "text": [
      "305 ms ± 24.4 ms per loop (mean ± std. dev. of 7 runs, 1 loop each)\n"
     ]
    }
   ],
   "source": [
    "%timeit lj_numpy.potential(cluster)"
   ]
  },
  {
   "cell_type": "markdown",
   "metadata": {},
   "source": [
    "## numba"
   ]
  },
  {
   "cell_type": "code",
   "execution_count": 28,
   "metadata": {},
   "outputs": [],
   "source": [
    "import numba\n",
    "\n",
    "@numba.vectorize(['float64(float64)'], nopython=True, target='parallel')\n",
    "def ulj(r):\n",
    "    sr6 = (1./r)**6\n",
    "    pot = 4.*(sr6*sr6 - sr6)\n",
    "    return pot\n",
    "\n",
    "@numba.jit(nopython=True)\n",
    "def dist(atom1, atom2):\n",
    "    dx = atom2[0] - atom1[0]\n",
    "    dy = atom2[1] - atom1[1]\n",
    "    dz = atom2[2] - atom1[2]\n",
    "\n",
    "    r = np.sqrt(dx*dx + dy*dy + dz*dz)\n",
    "    return r\n",
    "\n",
    "\n",
    "@numba.guvectorize(['(float64[:,:], float64[:,:])'], '(n,m)->(n,n)', nopython=True, target='parallel')\n",
    "def distance_matrix(cluster, dmat):\n",
    "    for i in range(len(cluster)-1):\n",
    "        dmat[i,i] = 0.0\n",
    "        for j in range(i+1,len(cluster)):\n",
    "            r = dist(cluster[i],cluster[j])\n",
    "            dmat[i,j] = r\n",
    "            dmat[j,i] = r\n",
    "\n",
    "def upotential(cluster):\n",
    "    n = cluster.shape[0]\n",
    "    dmat = np.empty(shape=(n,n), dtype=cluster.dtype)\n",
    "    distance_matrix(cluster, dmat)\n",
    "    \n",
    "    pot = ulj(dmat)\n",
    "    energy = np.nansum(pot) / 2.\n",
    "    \n",
    "    return energy"
   ]
  },
  {
   "cell_type": "code",
   "execution_count": 30,
   "metadata": {
    "scrolled": true
   },
   "outputs": [
    {
     "name": "stderr",
     "output_type": "stream",
     "text": [
      "/Users/adefusco/Applications/miniconda3/envs/intel/lib/python3.6/site-packages/ipykernel/__main__.py:33: RuntimeWarning: divide by zero encountered in ulj\n",
      "/Users/adefusco/Applications/miniconda3/envs/intel/lib/python3.6/site-packages/ipykernel/__main__.py:33: RuntimeWarning: invalid value encountered in ulj\n"
     ]
    },
    {
     "name": "stdout",
     "output_type": "stream",
     "text": [
      "34.6 ms ± 569 µs per loop (mean ± std. dev. of 7 runs, 10 loops each)\n"
     ]
    }
   ],
   "source": [
    "%timeit upotential(cluster)"
   ]
  },
  {
   "cell_type": "markdown",
   "metadata": {},
   "source": [
    "## thanks, Intel!"
   ]
  },
  {
   "cell_type": "markdown",
   "metadata": {},
   "source": [
    "https://www.anaconda.com/blog/developer-blog/parallel-python-with-numba-and-parallelaccelerator/"
   ]
  },
  {
   "cell_type": "code",
   "execution_count": 18,
   "metadata": {},
   "outputs": [],
   "source": [
    "import numba\n",
    "\n",
    "@numba.jit(nopython=True)\n",
    "def lj(r):\n",
    "    sr6 = (1./r)**6\n",
    "    pot = 4.*(sr6*sr6 - sr6)\n",
    "    return pot\n",
    "\n",
    "\n",
    "@numba.jit(nopython=True)\n",
    "def distance(atom1, atom2):\n",
    "    dx = atom2[0] - atom1[0]\n",
    "    dy = atom2[1] - atom1[1]\n",
    "    dz = atom2[2] - atom1[2]\n",
    "\n",
    "    r = np.sqrt(dx*dx + dy*dy + dz*dz)\n",
    "    return r\n",
    "\n",
    "\n",
    "@numba.jit(nopython=True)\n",
    "def potential(cluster):\n",
    "    energy = 0.0\n",
    "    for i in range(len(cluster)-1):\n",
    "        for j in range(i+1,len(cluster)):\n",
    "            r = distance(cluster[i],cluster[j])\n",
    "            e = lj(r)\n",
    "            energy += e\n",
    "    return energy"
   ]
  },
  {
   "cell_type": "code",
   "execution_count": 19,
   "metadata": {},
   "outputs": [
    {
     "name": "stdout",
     "output_type": "stream",
     "text": [
      "CPU times: user 141 ms, sys: 3.58 ms, total: 144 ms\n",
      "Wall time: 143 ms\n"
     ]
    },
    {
     "data": {
      "text/plain": [
       "0.0"
      ]
     },
     "execution_count": 19,
     "metadata": {},
     "output_type": "execute_result"
    }
   ],
   "source": [
    "z = np.zeros((1,3))\n",
    "%time potential(z)"
   ]
  },
  {
   "cell_type": "code",
   "execution_count": 20,
   "metadata": {
    "scrolled": true
   },
   "outputs": [
    {
     "name": "stdout",
     "output_type": "stream",
     "text": [
      "14.6 ms ± 91.4 µs per loop (mean ± std. dev. of 7 runs, 100 loops each)\n"
     ]
    }
   ],
   "source": [
    "%timeit potential(cluster)"
   ]
  },
  {
   "cell_type": "markdown",
   "metadata": {},
   "source": [
    "## bigger data structures"
   ]
  },
  {
   "cell_type": "code",
   "execution_count": 12,
   "metadata": {},
   "outputs": [],
   "source": [
    "import xarray as xr"
   ]
  },
  {
   "cell_type": "code",
   "execution_count": 13,
   "metadata": {},
   "outputs": [],
   "source": [
    "a = list('HCNO')\n",
    "labels = np.random.choice(list('HCNO'), size=cluster.shape[0])\n",
    "\n",
    "traj = np.stack([cluster, cluster+0.001, cluster-0.02])"
   ]
  },
  {
   "cell_type": "code",
   "execution_count": 14,
   "metadata": {},
   "outputs": [
    {
     "data": {
      "text/plain": [
       "<xarray.DataArray (time: 3, atom: 2000, position: 3)>\n",
       "array([[[ -32.180493,  -49.396232,  172.05197 ],\n",
       "        [-100.648437,  105.830152,  212.067684],\n",
       "        ..., \n",
       "        [ 167.829985,   93.934129,   13.338662],\n",
       "        [  36.553448,  124.789454, -156.322434]],\n",
       "\n",
       "       [[ -32.179493,  -49.395232,  172.05297 ],\n",
       "        [-100.647437,  105.831152,  212.068684],\n",
       "        ..., \n",
       "        [ 167.830985,   93.935129,   13.339662],\n",
       "        [  36.554448,  124.790454, -156.321434]],\n",
       "\n",
       "       [[ -32.200493,  -49.416232,  172.03197 ],\n",
       "        [-100.668437,  105.810152,  212.047684],\n",
       "        ..., \n",
       "        [ 167.809985,   93.914129,   13.318662],\n",
       "        [  36.533448,  124.769454, -156.342434]]])\n",
       "Coordinates:\n",
       "  * atom      (atom) <U1 'C' 'O' 'C' 'O' 'O' 'N' 'O' 'C' 'H' 'H' 'O' 'O' 'C' ...\n",
       "  * position  (position) <U1 'x' 'y' 'z'\n",
       "  * time      (time) int64 0 1 2"
      ]
     },
     "execution_count": 14,
     "metadata": {},
     "output_type": "execute_result"
    }
   ],
   "source": [
    "positions = xr.DataArray(traj,\n",
    "                        dims=('time','atom','position'),\n",
    "                        coords={'atom':labels,\n",
    "                                'position':['x','y','z'],\n",
    "                                'time':range(traj.shape[0])})\n",
    "positions"
   ]
  },
  {
   "cell_type": "code",
   "execution_count": 15,
   "metadata": {
    "scrolled": false
   },
   "outputs": [
    {
     "data": {
      "text/plain": [
       "<xarray.DataArray (time: 3, atom: 471, position: 3)>\n",
       "array([[[ -32.180493,  -49.396232,  172.05197 ],\n",
       "        [ -96.074573,   31.574305,  -63.347429],\n",
       "        ..., \n",
       "        [ -24.140257,  233.775356,   28.248137],\n",
       "        [-143.094791,  136.85085 , -131.000658]],\n",
       "\n",
       "       [[ -32.179493,  -49.395232,  172.05297 ],\n",
       "        [ -96.073573,   31.575305,  -63.346429],\n",
       "        ..., \n",
       "        [ -24.139257,  233.776356,   28.249137],\n",
       "        [-143.093791,  136.85185 , -130.999658]],\n",
       "\n",
       "       [[ -32.200493,  -49.416232,  172.03197 ],\n",
       "        [ -96.094573,   31.554305,  -63.367429],\n",
       "        ..., \n",
       "        [ -24.160257,  233.755356,   28.228137],\n",
       "        [-143.114791,  136.83085 , -131.020658]]])\n",
       "Coordinates:\n",
       "  * atom      (atom) <U1 'C' 'C' 'C' 'C' 'C' 'C' 'C' 'C' 'C' 'C' 'C' 'C' 'C' ...\n",
       "  * position  (position) <U1 'x' 'y' 'z'\n",
       "  * time      (time) int64 0 1 2"
      ]
     },
     "execution_count": 15,
     "metadata": {},
     "output_type": "execute_result"
    }
   ],
   "source": [
    "positions.sel(atom='C')"
   ]
  },
  {
   "cell_type": "code",
   "execution_count": 37,
   "metadata": {},
   "outputs": [
    {
     "name": "stdout",
     "output_type": "stream",
     "text": [
      "15.2 ms ± 486 µs per loop (mean ± std. dev. of 7 runs, 100 loops each)\n"
     ]
    }
   ],
   "source": [
    "%timeit potential(positions.sel(time=0).values)"
   ]
  }
 ],
 "metadata": {
  "kernelspec": {
   "display_name": "Python [conda env:intel]",
   "language": "python",
   "name": "conda-env-intel-py"
  },
  "language_info": {
   "codemirror_mode": {
    "name": "ipython",
    "version": 3
   },
   "file_extension": ".py",
   "mimetype": "text/x-python",
   "name": "python",
   "nbconvert_exporter": "python",
   "pygments_lexer": "ipython3",
   "version": "3.6.3"
  }
 },
 "nbformat": 4,
 "nbformat_minor": 2
}
